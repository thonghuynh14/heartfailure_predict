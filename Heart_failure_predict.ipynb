{
 "cells": [
  {
   "cell_type": "code",
   "execution_count": 2,
   "id": "57dafce1-be01-42f3-a3d0-6d5ad7fc6061",
   "metadata": {},
   "outputs": [],
   "source": [
    "# from mlxtend.plotting import plot_decision_regions\n",
    "import numpy as np \n",
    "import pandas as pd\n",
    "import matplotlib.pyplot as plt\n",
    "import seaborn as sns\n",
    "from sklearn.neighbors import KNeighborsClassifier\n",
    "from sklearn.model_selection import train_test_split\n",
    "from sklearn.preprocessing import StandardScaler\n",
    "from matplotlib.colors import ListedColormap\n",
    "from sklearn.metrics import confusion_matrix\n",
    "from scipy.spatial.distance import cdist\n",
    "\n",
    "from sklearn.metrics import confusion_matrix,classification_report,accuracy_score,roc_auc_score,f1_score\n",
    "from sklearn.preprocessing import RobustScaler,MinMaxScaler,StandardScaler\n",
    "from sklearn import model_selection\n",
    "from sklearn.naive_bayes import GaussianNB\n",
    "from sklearn.linear_model import LogisticRegression\n",
    "from sklearn import preprocessing            # Label Encoder\n",
    "import math\n",
    "import random\n",
    "import operator\n",
    "import warnings\n",
    "warnings.filterwarnings('ignore')\n",
    "import csv"
   ]
  },
  {
   "cell_type": "code",
   "execution_count": 3,
   "id": "e1521402-e8f8-41ea-9748-293c641aac5e",
   "metadata": {},
   "outputs": [],
   "source": [
    "df=pd.read_csv('Nhom07_heart_failure.csv')\n"
   ]
  },
  {
   "cell_type": "markdown",
   "id": "a927d293",
   "metadata": {},
   "source": [
    "# DATA DISCRIBE:\n",
    "\n"
   ]
  },
  {
   "cell_type": "raw",
   "id": "b960f18b",
   "metadata": {},
   "source": [
    "1.Age:Tuổi\n",
    "\n",
    "2.Sex:Giới tính \n",
    "\n",
    "    M:Nam \n",
    "\n",
    "    FM: Nữ\n",
    "\n",
    "3.ChestPainType : Loại đau ngực\n",
    "\n",
    "    TA: Đau thắt ngực điển hình\n",
    "\n",
    "    ATA: Đau thắt ngực không điển hình\n",
    "\n",
    "    NAP: Không đau thắt ngực\n",
    "    \n",
    "    ASY: Không cótriệu chứng\n",
    " \n",
    "4. RestingBP: huyết áp khi nghỉ ngơi [mm Hg]\n",
    "\n",
    "5. Cholesterol: cholesterol huyết thanh [mm / dl]\n",
    "\n",
    "6. FastingBS: đường huyết lúc đói \n",
    "    1: nếu FastingBS> 120 mg / dl\n",
    "    0: khác\n",
    "\n",
    "7. RestingECG: kết quả điện tâm đồ lúc nghỉ \n",
    "\n",
    "    Normal: Bình thường\n",
    "\n",
    "    ST: có bất thường sóng ST-T (đảo ngược sóng T  hoặc ST chênh lên hoặc giảm> 0,05 mV)\n",
    "\n",
    "    LVH: cho thấy phì đại thất trái có thể hoặc xác định theo tiêu chuẩn của Estes\n",
    "\n",
    " 8. MaxHR: nhịp tim tối đa đạt được [Giá trị số từ 60 đến 202]\n",
    "\n",
    " 9. ExerciseAngina: đau thắt ngực do tập thể dục \n",
    "\n",
    "    Y: Có\n",
    "\n",
    "    N: Không\n",
    "\n",
    " 10. Oldpeak: oldpeak = ST [Giá trị số được đo bằng độ trầm cảm]\n",
    "\n",
    " 11. ST_Slope: Độ dốc của Đoạn ST trong kết quả điện tâm đồ\n",
    "\n",
    "    Up: Dốc lên\n",
    "\n",
    "    Flat: Bằng phẳng\n",
    "\n",
    "    Down: Dốc xuống\n",
    "\n",
    " 12. HeartDisease: Lớp đầu ra \n",
    "\n",
    "    1: Bệnh tim\n",
    "\n",
    "    0: Bình thường "
   ]
  },
  {
   "cell_type": "code",
   "execution_count": 4,
   "id": "73294be7-7243-44a5-9c35-e648e3e464b9",
   "metadata": {},
   "outputs": [
    {
     "data": {
      "text/plain": [
       "(918, 12)"
      ]
     },
     "execution_count": 4,
     "metadata": {},
     "output_type": "execute_result"
    }
   ],
   "source": [
    "# understanding the data\n",
    "df.head()\n",
    "df.shape"
   ]
  },
  {
   "cell_type": "code",
   "execution_count": 5,
   "id": "96aaab30-7c37-4413-91c5-79eb8f5acaad",
   "metadata": {},
   "outputs": [
    {
     "data": {
      "text/plain": [
       "Age                50\n",
       "Sex                 2\n",
       "ChestPainType       4\n",
       "RestingBP          67\n",
       "Cholesterol       222\n",
       "FastingBS           2\n",
       "RestingECG          3\n",
       "MaxHR             119\n",
       "ExerciseAngina      2\n",
       "Oldpeak            53\n",
       "ST_Slope            3\n",
       "HeartDisease        2\n",
       "dtype: int64"
      ]
     },
     "execution_count": 5,
     "metadata": {},
     "output_type": "execute_result"
    }
   ],
   "source": [
    "df.nunique()"
   ]
  },
  {
   "cell_type": "code",
   "execution_count": 6,
   "id": "e8cc31b6-a7ae-444f-8091-075d702ee0f2",
   "metadata": {},
   "outputs": [
    {
     "data": {
      "text/html": [
       "<div>\n",
       "<style scoped>\n",
       "    .dataframe tbody tr th:only-of-type {\n",
       "        vertical-align: middle;\n",
       "    }\n",
       "\n",
       "    .dataframe tbody tr th {\n",
       "        vertical-align: top;\n",
       "    }\n",
       "\n",
       "    .dataframe thead th {\n",
       "        text-align: right;\n",
       "    }\n",
       "</style>\n",
       "<table border=\"1\" class=\"dataframe\">\n",
       "  <thead>\n",
       "    <tr style=\"text-align: right;\">\n",
       "      <th></th>\n",
       "      <th>Age</th>\n",
       "      <th>RestingBP</th>\n",
       "      <th>Cholesterol</th>\n",
       "      <th>FastingBS</th>\n",
       "      <th>MaxHR</th>\n",
       "      <th>Oldpeak</th>\n",
       "      <th>HeartDisease</th>\n",
       "    </tr>\n",
       "  </thead>\n",
       "  <tbody>\n",
       "    <tr>\n",
       "      <th>count</th>\n",
       "      <td>918.000000</td>\n",
       "      <td>918.000000</td>\n",
       "      <td>918.000000</td>\n",
       "      <td>918.000000</td>\n",
       "      <td>918.000000</td>\n",
       "      <td>918.000000</td>\n",
       "      <td>918.000000</td>\n",
       "    </tr>\n",
       "    <tr>\n",
       "      <th>mean</th>\n",
       "      <td>53.510893</td>\n",
       "      <td>132.396514</td>\n",
       "      <td>198.799564</td>\n",
       "      <td>0.233115</td>\n",
       "      <td>136.809368</td>\n",
       "      <td>0.887364</td>\n",
       "      <td>0.553377</td>\n",
       "    </tr>\n",
       "    <tr>\n",
       "      <th>std</th>\n",
       "      <td>9.432617</td>\n",
       "      <td>18.514154</td>\n",
       "      <td>109.384145</td>\n",
       "      <td>0.423046</td>\n",
       "      <td>25.460334</td>\n",
       "      <td>1.066570</td>\n",
       "      <td>0.497414</td>\n",
       "    </tr>\n",
       "    <tr>\n",
       "      <th>min</th>\n",
       "      <td>28.000000</td>\n",
       "      <td>0.000000</td>\n",
       "      <td>0.000000</td>\n",
       "      <td>0.000000</td>\n",
       "      <td>60.000000</td>\n",
       "      <td>-2.600000</td>\n",
       "      <td>0.000000</td>\n",
       "    </tr>\n",
       "    <tr>\n",
       "      <th>25%</th>\n",
       "      <td>47.000000</td>\n",
       "      <td>120.000000</td>\n",
       "      <td>173.250000</td>\n",
       "      <td>0.000000</td>\n",
       "      <td>120.000000</td>\n",
       "      <td>0.000000</td>\n",
       "      <td>0.000000</td>\n",
       "    </tr>\n",
       "    <tr>\n",
       "      <th>50%</th>\n",
       "      <td>54.000000</td>\n",
       "      <td>130.000000</td>\n",
       "      <td>223.000000</td>\n",
       "      <td>0.000000</td>\n",
       "      <td>138.000000</td>\n",
       "      <td>0.600000</td>\n",
       "      <td>1.000000</td>\n",
       "    </tr>\n",
       "    <tr>\n",
       "      <th>75%</th>\n",
       "      <td>60.000000</td>\n",
       "      <td>140.000000</td>\n",
       "      <td>267.000000</td>\n",
       "      <td>0.000000</td>\n",
       "      <td>156.000000</td>\n",
       "      <td>1.500000</td>\n",
       "      <td>1.000000</td>\n",
       "    </tr>\n",
       "    <tr>\n",
       "      <th>max</th>\n",
       "      <td>77.000000</td>\n",
       "      <td>200.000000</td>\n",
       "      <td>603.000000</td>\n",
       "      <td>1.000000</td>\n",
       "      <td>202.000000</td>\n",
       "      <td>6.200000</td>\n",
       "      <td>1.000000</td>\n",
       "    </tr>\n",
       "  </tbody>\n",
       "</table>\n",
       "</div>"
      ],
      "text/plain": [
       "              Age   RestingBP  Cholesterol   FastingBS       MaxHR  \\\n",
       "count  918.000000  918.000000   918.000000  918.000000  918.000000   \n",
       "mean    53.510893  132.396514   198.799564    0.233115  136.809368   \n",
       "std      9.432617   18.514154   109.384145    0.423046   25.460334   \n",
       "min     28.000000    0.000000     0.000000    0.000000   60.000000   \n",
       "25%     47.000000  120.000000   173.250000    0.000000  120.000000   \n",
       "50%     54.000000  130.000000   223.000000    0.000000  138.000000   \n",
       "75%     60.000000  140.000000   267.000000    0.000000  156.000000   \n",
       "max     77.000000  200.000000   603.000000    1.000000  202.000000   \n",
       "\n",
       "          Oldpeak  HeartDisease  \n",
       "count  918.000000    918.000000  \n",
       "mean     0.887364      0.553377  \n",
       "std      1.066570      0.497414  \n",
       "min     -2.600000      0.000000  \n",
       "25%      0.000000      0.000000  \n",
       "50%      0.600000      1.000000  \n",
       "75%      1.500000      1.000000  \n",
       "max      6.200000      1.000000  "
      ]
     },
     "execution_count": 6,
     "metadata": {},
     "output_type": "execute_result"
    }
   ],
   "source": [
    "# describe data\n",
    "df.describe()"
   ]
  },
  {
   "cell_type": "code",
   "execution_count": 7,
   "id": "f96a2411-4cc9-48f4-8c69-cf22773a5c3e",
   "metadata": {},
   "outputs": [
    {
     "data": {
      "text/plain": [
       "Age               0\n",
       "Sex               0\n",
       "ChestPainType     0\n",
       "RestingBP         0\n",
       "Cholesterol       0\n",
       "FastingBS         0\n",
       "RestingECG        0\n",
       "MaxHR             0\n",
       "ExerciseAngina    0\n",
       "Oldpeak           0\n",
       "ST_Slope          0\n",
       "HeartDisease      0\n",
       "dtype: int64"
      ]
     },
     "execution_count": 7,
     "metadata": {},
     "output_type": "execute_result"
    }
   ],
   "source": [
    "# check data null \n",
    "df.isnull().sum()"
   ]
  },
  {
   "cell_type": "markdown",
   "id": "9ab010ea-c9cc-4e22-ae56-a012fb35b8f2",
   "metadata": {},
   "source": [
    "=> Không có giá trị null"
   ]
  },
  {
   "cell_type": "markdown",
   "id": "3a9ce506",
   "metadata": {},
   "source": [
    "# EXPLORE DATA"
   ]
  },
  {
   "cell_type": "code",
   "execution_count": 8,
   "id": "190fa158-2c5f-47ee-b779-81c5d9362e78",
   "metadata": {},
   "outputs": [
    {
     "data": {
      "image/png": "[encoded data removed]",
      "text/plain": [
       "<Figure size 720x720 with 1 Axes>"
      ]
     },
     "metadata": {},
     "output_type": "display_data"
    }
   ],
   "source": [
    "# draw distribution of feature heartdisease\n",
    "plt.figure(figsize=(10,10))\n",
    "df['HeartDisease'].value_counts().plot.pie(autopct=\"%1.1f%%\",colors = ( \"red\", \"blue\"),labels = df['HeartDisease'].unique(), shadow = True)\n",
    "plt.legend(title = \"Heart Failure:\")\n",
    "plt.show()"
   ]
  },
  {
   "cell_type": "markdown",
   "id": "cd9e1a2c-551c-4a5b-b818-d92d5fb80a1b",
   "metadata": {},
   "source": [
    "=>55,3% số người được quan sát mắc bệnh tim và 44,7% không mắc bệnh trong số tất các bệnh nhân đi khám bệnh"
   ]
  },
  {
   "cell_type": "code",
   "execution_count": 9,
   "id": "48b2302b-7dd7-4c85-92fa-8ce81a5744e0",
   "metadata": {},
   "outputs": [
    {
     "data": {
      "image/png": "[encoded data removed]",
      "text/plain": [
       "<Figure size 720x360 with 1 Axes>"
      ]
     },
     "metadata": {
      "needs_background": "light"
     },
     "output_type": "display_data"
    }
   ],
   "source": [
    "plt.figure(figsize=(10,5))\n",
    "bins=[0,30,50,77]\n",
    "sns.countplot(x=pd.cut(df.Age,bins=bins),hue=df.HeartDisease)\n",
    "plt.show()"
   ]
  },
  {
   "cell_type": "markdown",
   "id": "de4f0b06-4268-4f90-b3ff-0384bbfdc118",
   "metadata": {},
   "source": [
    "=>Người lớn từ 50 tuổi trở lên có nhiều khả năng mắc bệnh tim hơn những người trẻ tuổi"
   ]
  },
  {
   "cell_type": "code",
   "execution_count": 10,
   "id": "858aedb0-0ebb-4288-8738-4d031603d319",
   "metadata": {},
   "outputs": [
    {
     "data": {
      "text/plain": [
       "<AxesSubplot:xlabel='Sex', ylabel='count'>"
      ]
     },
     "execution_count": 10,
     "metadata": {},
     "output_type": "execute_result"
    },
    {
     "data": {
      "image/png": "[encoded data removed]",
      "text/plain": [
       "<Figure size 720x360 with 1 Axes>"
      ]
     },
     "metadata": {
      "needs_background": "light"
     },
     "output_type": "display_data"
    }
   ],
   "source": [
    "plt.figure(figsize=(10,5))\n",
    "sns.countplot(data=df,x=\"Sex\", hue=\"HeartDisease\")\n"
   ]
  },
  {
   "cell_type": "markdown",
   "id": "2195da8f-6a02-4722-a872-848a4af424af",
   "metadata": {},
   "source": [
    "=> Nam giới có nhiều khả năng  mắc bệnh cao hơn nữ giới"
   ]
  },
  {
   "cell_type": "code",
   "execution_count": 11,
   "id": "895435f6-298d-4664-8a06-249ce9df0ad7",
   "metadata": {},
   "outputs": [
    {
     "data": {
      "image/png": "[encoded data removed]",
      "text/plain": [
       "<Figure size 864x432 with 1 Axes>"
      ]
     },
     "metadata": {
      "needs_background": "light"
     },
     "output_type": "display_data"
    }
   ],
   "source": [
    "plt.figure(figsize=(12, 6))\n",
    "sns.countplot(data=df, x=\"ChestPainType\", hue=\"HeartDisease\");\n"
   ]
  },
  {
   "cell_type": "markdown",
   "id": "fa9fb307-6c09-4575-a8a7-a55084429935",
   "metadata": {},
   "source": [
    "- Tỷ lệ suy tim cao nhất có liên quan đến đau ngực kiểu ASY (Không triệu chứng), sau đó đến NAP (Non-anginal pain).\n",
    "- Loại đau ngực phổ biến nhất ở những người không có bệnh tim là ATA (đau thắt ngực không điển hình) và ít phổ biến nhất là TA (đau thắt ngực điển hình)."
   ]
  },
  {
   "cell_type": "code",
   "execution_count": 12,
   "id": "d09a1f48-0dab-4e79-ba2d-1c602c51a280",
   "metadata": {},
   "outputs": [
    {
     "data": {
      "image/png": "[encoded data removed]",
      "text/plain": [
       "<Figure size 1440x360 with 1 Axes>"
      ]
     },
     "metadata": {
      "needs_background": "light"
     },
     "output_type": "display_data"
    }
   ],
   "source": [
    "plt.figure(figsize=(20, 5))\n",
    "bins = [70, 80, 90, 100, 110, 120, 130, 140, 150, 160, 170, 180, 190, 200]\n",
    "sns.histplot(data=df, x=\"RestingBP\",bins=bins, hue=\"HeartDisease\");\n",
    "sns.despine(top=True, right=True)"
   ]
  },
  {
   "cell_type": "markdown",
   "id": "5f1b8557-2520-4623-86f7-7327004dc7c6",
   "metadata": {},
   "source": [
    "=>Hầu hết  bệnh nhân bị bệnh tim có huyết áp lúc nghỉ trong khoảng 130-139, trong khi đối với bệnh nhân bình thường là 120-129"
   ]
  },
  {
   "cell_type": "code",
   "execution_count": 13,
   "id": "0ddf1ac2-1078-40f8-a9c9-d1521198851f",
   "metadata": {},
   "outputs": [
    {
     "data": {
      "image/png": "[encoded data removed]",
      "text/plain": [
       "<Figure size 720x360 with 1 Axes>"
      ]
     },
     "metadata": {
      "needs_background": "light"
     },
     "output_type": "display_data"
    }
   ],
   "source": [
    "plt.figure(figsize=(10,5))\n",
    "sns.countplot(x=df.HeartDisease,hue=df.RestingECG)\n",
    "plt.xticks(np.arange(2), ['No', 'Yes']) \n",
    "plt.show()"
   ]
  },
  {
   "cell_type": "markdown",
   "id": "b103fa0a-e382-481d-8488-65bbfecbfc8d",
   "metadata": {},
   "source": [
    "=>Với kết quả điện tâm đồ ta thấy  số lượng bệnh nhân với tất cả các loại kết quả  điện tâm đồ khi nghỉ ngơi  bị bệnh tim cao hơn "
   ]
  },
  {
   "cell_type": "code",
   "execution_count": 14,
   "id": "8f517723-87bc-48a5-b836-52a5fdd6368c",
   "metadata": {},
   "outputs": [
    {
     "data": {
      "image/png": "[encoded data removed]",
      "text/plain": [
       "<Figure size 1296x432 with 1 Axes>"
      ]
     },
     "metadata": {
      "needs_background": "light"
     },
     "output_type": "display_data"
    }
   ],
   "source": [
    "bins = [90, 120, 140, 160, 180, 200, 220, 240, 260, 280, 300, 320, 340, 360, 380, 400, 420, 440, 460, 480, 500]\n",
    "plt.figure(figsize=(18, 6))\n",
    "sns.histplot(data=df, x=\"Cholesterol\", bins=bins, hue=\"HeartDisease\");\n",
    "sns.despine(top=True, right=True)"
   ]
  },
  {
   "cell_type": "markdown",
   "id": "0e1991bf-8f81-42f3-9d13-562d6a7c753f",
   "metadata": {},
   "source": [
    "=>Hầu hết số lượng bệnh nhân bị bệnh tim  có cholesterol trong khoảng 200-219, đối với bệnh nhân bình thường thì khoảng này là 220-239."
   ]
  },
  {
   "cell_type": "code",
   "execution_count": 15,
   "id": "5eaacb67-f4fc-46e8-8c99-6b045cb24639",
   "metadata": {},
   "outputs": [
    {
     "data": {
      "image/png": "[encoded data removed]",
      "text/plain": [
       "<Figure size 1152x360 with 1 Axes>"
      ]
     },
     "metadata": {
      "needs_background": "light"
     },
     "output_type": "display_data"
    }
   ],
   "source": [
    "plt.figure(figsize=(16, 5))\n",
    "sns.countplot(data=df, x=\"FastingBS\", hue=\"HeartDisease\");\n",
    "sns.despine(top=True, right=True)"
   ]
  },
  {
   "cell_type": "markdown",
   "id": "d41362cf-fed2-4c4c-886e-f3d9676cf028",
   "metadata": {},
   "source": [
    "=>Hầu hết những ngươì có lượng đường trong máu lúc đói trên 120 mg / dl hầu hết  mắc bệnh tim"
   ]
  },
  {
   "cell_type": "code",
   "execution_count": 16,
   "id": "f69d633c-a118-40bb-91f8-2c3af9d244dc",
   "metadata": {},
   "outputs": [
    {
     "data": {
      "image/png": "[encoded data removed]",
      "text/plain": [
       "<Figure size 1296x432 with 1 Axes>"
      ]
     },
     "metadata": {
      "needs_background": "light"
     },
     "output_type": "display_data"
    }
   ],
   "source": [
    "plt.figure(figsize=(18, 6))\n",
    "bins = [60, 70, 80, 90, 100, 110, 120, 130, 140, 150, 160, 170, 180, 190, 200]\n",
    "sns.histplot(data=df, x=\"MaxHR\", hue=\"HeartDisease\", bins=bins);\n",
    "sns.despine(top=True, right=True)"
   ]
  },
  {
   "cell_type": "markdown",
   "id": "d389e0d3-89c7-4f9a-9e0c-305ad51511b4",
   "metadata": {},
   "source": [
    "=>Bệnh nhân mắc bệnh tim có nhịp tim tối đa  từ 60 đến 200 trong khi đối với bệnh nhân bình thường là từ 80 đến 200. Bệnh nhân bình thường  có nhịp tim tối đa trung bình cao hơn so với những người bị bệnh tim.Những bệnh nhân bị bệnh tim tối đa có nhịp tim tối đa trong khoảng 120-129."
   ]
  },
  {
   "cell_type": "code",
   "execution_count": 17,
   "id": "0f880fb2-5ac1-405d-9f39-9e5bba9e663c",
   "metadata": {},
   "outputs": [
    {
     "data": {
      "image/png": "[encoded data removed]",
      "text/plain": [
       "<Figure size 720x360 with 1 Axes>"
      ]
     },
     "metadata": {
      "needs_background": "light"
     },
     "output_type": "display_data"
    }
   ],
   "source": [
    "plt.figure(figsize=(10,5))\n",
    "sns.countplot(x=df.HeartDisease,hue=df.ST_Slope)\n",
    "plt.xticks(np.arange(2), ['No', 'Yes']) \n",
    "plt.show()"
   ]
  },
  {
   "cell_type": "markdown",
   "id": "c47e9f1d-c4d9-4b3e-bea7-d4346a7579b0",
   "metadata": {},
   "source": [
    "=> Độ dốc của Đoạn ST trong kết quả điện tâm đồ của bệnh nhân mắc bệnh tim thì phẳng  là loại phổ biến nhất"
   ]
  },
  {
   "cell_type": "code",
   "execution_count": 18,
   "id": "b2da3537-d6e7-4e21-ac9d-95d940de973c",
   "metadata": {},
   "outputs": [
    {
     "data": {
      "image/png": "[encoded data removed]",
      "text/plain": [
       "<Figure size 1440x1440 with 9 Axes>"
      ]
     },
     "metadata": {
      "needs_background": "light"
     },
     "output_type": "display_data"
    }
   ],
   "source": [
    "#understanding about data\n",
    "df.hist(figsize = (20, 20),color='green')\n",
    "plt.show()"
   ]
  },
  {
   "cell_type": "code",
   "execution_count": 19,
   "id": "fad689e4-70c4-4916-bfcf-16f03e486e26",
   "metadata": {},
   "outputs": [
    {
     "data": {
      "image/png": "[encoded data removed]",
      "text/plain": [
       "<Figure size 720x504 with 2 Axes>"
      ]
     },
     "metadata": {
      "needs_background": "light"
     },
     "output_type": "display_data"
    }
   ],
   "source": [
    "# use heatmap to know correlation of features in dataframe\n",
    "plt.figure(figsize=(10,7))\n",
    "sns.heatmap(df.corr(), annot=True,cmap='Blues')\n",
    "plt.show()"
   ]
  },
  {
   "cell_type": "code",
   "execution_count": 20,
   "id": "7f8ee798-b5ff-4e3c-ad5f-aa8ef37fdca8",
   "metadata": {},
   "outputs": [
    {
     "data": {
      "text/plain": [
       "Oldpeak        0.403951\n",
       "Age            0.282039\n",
       "FastingBS      0.267291\n",
       "RestingBP      0.107589\n",
       "Cholesterol   -0.232741\n",
       "MaxHR         -0.400421\n",
       "Name: HeartDisease, dtype: float64"
      ]
     },
     "execution_count": 20,
     "metadata": {},
     "output_type": "execute_result"
    }
   ],
   "source": [
    "#see which attribute has a strong relationship with heartdisease\n",
    "cancel_corr = df.corr()[\"HeartDisease\"]\n",
    "cancel_corr.sort_values(ascending=False)[1:]"
   ]
  },
  {
   "cell_type": "code",
   "execution_count": 21,
   "id": "0ab7d06a-61a6-4a7c-9eeb-1ffe4b80ce0d",
   "metadata": {},
   "outputs": [],
   "source": [
    "# Transform data for build model\n",
    "df=df.replace({'Sex': {'M':1, 'F':0}})\n",
    "df=df.replace({'ChestPainType':{'ATA':1,'NAP':2,'ASY':3,'TA':4}})\n",
    "df=df.replace({'RestingECG':{'Normal':1,'ST':2,'LVH':3}})\n",
    "df=df.replace({'ExerciseAngina': {'N':0, 'Y':1}})\n",
    "df=df.replace({'ST_Slope': {'Up':0, 'Flat':1,'Down':3}})"
   ]
  },
  {
   "cell_type": "markdown",
   "id": "15754630",
   "metadata": {},
   "source": [
    "# Generating Model"
   ]
  },
  {
   "cell_type": "code",
   "execution_count": 22,
   "id": "e7a0dff1-fc7e-4b87-b203-55517203003f",
   "metadata": {},
   "outputs": [],
   "source": [
    "x=df.iloc[:,[1,3,4,5,7,9]].values\n",
    "y=df.iloc[:,11].values"
   ]
  },
  {
   "cell_type": "markdown",
   "id": "fa987217",
   "metadata": {},
   "source": [
    "# KNN- Scikit-learn\n"
   ]
  },
  {
   "cell_type": "code",
   "execution_count": 23,
   "id": "80a2c14f-a145-4402-858e-77cb63efebad",
   "metadata": {},
   "outputs": [
    {
     "name": "stdout",
     "output_type": "stream",
     "text": [
      "x_train.shape (612, 6)\n",
      "x_test.shape (306, 6)\n",
      "y_train.shape (612,)\n",
      "y_test.shape (306,)\n"
     ]
    }
   ],
   "source": [
    "# split data for train, test model\n",
    "x_train,x_test,y_train,y_test=train_test_split(x,y,test_size=1/3,random_state=0)\n",
    "print('x_train.shape',x_train.shape)\n",
    "print('x_test.shape',x_test.shape)\n",
    "print('y_train.shape',y_train.shape)\n",
    "print('y_test.shape',y_test.shape)\n"
   ]
  },
  {
   "cell_type": "markdown",
   "id": "c7df0384",
   "metadata": {},
   "source": [
    "Scaling data"
   ]
  },
  {
   "cell_type": "code",
   "execution_count": 24,
   "id": "f4c00b6b-4602-46f8-9ab1-2cb0e4cbb3c1",
   "metadata": {},
   "outputs": [],
   "source": [
    "# Scale data\n",
    "standard= StandardScaler()\n",
    "x_train=standard.fit_transform(x_train)\n",
    "x_test=standard.transform(x_test)"
   ]
  },
  {
   "cell_type": "markdown",
   "id": "36494fd4",
   "metadata": {},
   "source": [
    "Tìm k để có độ chính xác cao"
   ]
  },
  {
   "cell_type": "code",
   "execution_count": 25,
   "id": "9dbd1306",
   "metadata": {},
   "outputs": [
    {
     "data": {
      "image/png": "[encoded data removed]",
      "text/plain": [
       "<Figure size 432x288 with 1 Axes>"
      ]
     },
     "metadata": {
      "needs_background": "light"
     },
     "output_type": "display_data"
    }
   ],
   "source": [
    "n_neighbors = np.arange(1, 10)\n",
    "train_accuracy = np.empty(len(n_neighbors))\n",
    "test_accuracy = np.empty(len(n_neighbors))\n",
    "  \n",
    "# Loop over K values\n",
    "for i, k in enumerate(n_neighbors):\n",
    "    knn = KNeighborsClassifier(n_neighbors=k)\n",
    "    knn.fit(x_train, y_train)\n",
    "      \n",
    "    # Compute training and test data accuracy\n",
    "    train_accuracy[i] = knn.score(x_train, y_train)\n",
    "    test_accuracy[i] = knn.score(x_test, y_test)\n",
    "  \n",
    "# Generate plot\n",
    "plt.plot(n_neighbors, test_accuracy, label = 'Testing dataset Accuracy')\n",
    "plt.plot(n_neighbors, train_accuracy, label = 'Training dataset Accuracy')\n",
    "  \n",
    "plt.legend()\n",
    "plt.xlabel('n_neighbors')\n",
    "plt.ylabel('Accuracy')\n",
    "plt.show()"
   ]
  },
  {
   "cell_type": "markdown",
   "id": "069a5c05",
   "metadata": {},
   "source": [
    "=> Mô hình nên sử dụng với k = 9"
   ]
  },
  {
   "cell_type": "code",
   "execution_count": 26,
   "id": "718255ca-45b9-4b6c-b3de-e535f62c5d72",
   "metadata": {},
   "outputs": [],
   "source": [
    "from sklearn.neighbors import KNeighborsClassifier\n",
    "knn=KNeighborsClassifier(n_neighbors=9)\n",
    "knn.fit(x_train,y_train)\n",
    "y_pred = knn.predict(x_test)"
   ]
  },
  {
   "cell_type": "code",
   "execution_count": 27,
   "id": "91612234-d2d2-4a45-a12f-07fb4141a02c",
   "metadata": {},
   "outputs": [
    {
     "name": "stdout",
     "output_type": "stream",
     "text": [
      "Accuracy with k=9:77.78%\n"
     ]
    },
    {
     "data": {
      "image/png": "[encoded data removed]",
      "text/plain": [
       "<Figure size 576x360 with 2 Axes>"
      ]
     },
     "metadata": {
      "needs_background": "light"
     },
     "output_type": "display_data"
    }
   ],
   "source": [
    "# Evaluate model\n",
    "cm = confusion_matrix(y_test,y_pred)\n",
    "conf_matrix=pd.DataFrame(data=cm,columns=['Predicted:0','Predicted:1'],index=['Actual:0','Actual:1'])\n",
    "plt.figure(figsize = (8,5))\n",
    "sns.heatmap(conf_matrix, annot=True,fmt='d')\n",
    "from sklearn.metrics import accuracy_score\n",
    "print(\"Accuracy with k=9:%.2f%%\"%(100*accuracy_score(y_test, y_pred)))"
   ]
  },
  {
   "cell_type": "markdown",
   "id": "31ec62ba",
   "metadata": {},
   "source": [
    "# NBC (Sklearn)"
   ]
  },
  {
   "cell_type": "code",
   "execution_count": 33,
   "id": "a6498716",
   "metadata": {},
   "outputs": [],
   "source": [
    "X = df.drop([\"HeartDisease\"], axis=1)\n",
    "y = df[\"HeartDisease\"]"
   ]
  },
  {
   "cell_type": "code",
   "execution_count": 34,
   "id": "fddad65d",
   "metadata": {},
   "outputs": [
    {
     "data": {
      "text/html": [
       "<div>\n",
       "<style scoped>\n",
       "    .dataframe tbody tr th:only-of-type {\n",
       "        vertical-align: middle;\n",
       "    }\n",
       "\n",
       "    .dataframe tbody tr th {\n",
       "        vertical-align: top;\n",
       "    }\n",
       "\n",
       "    .dataframe thead th {\n",
       "        text-align: right;\n",
       "    }\n",
       "</style>\n",
       "<table border=\"1\" class=\"dataframe\">\n",
       "  <thead>\n",
       "    <tr style=\"text-align: right;\">\n",
       "      <th></th>\n",
       "      <th>Age</th>\n",
       "      <th>Sex</th>\n",
       "      <th>ChestPainType</th>\n",
       "      <th>RestingBP</th>\n",
       "      <th>Cholesterol</th>\n",
       "      <th>FastingBS</th>\n",
       "      <th>RestingECG</th>\n",
       "      <th>MaxHR</th>\n",
       "      <th>ExerciseAngina</th>\n",
       "      <th>Oldpeak</th>\n",
       "      <th>ST_Slope</th>\n",
       "    </tr>\n",
       "  </thead>\n",
       "  <tbody>\n",
       "    <tr>\n",
       "      <th>0</th>\n",
       "      <td>40</td>\n",
       "      <td>1</td>\n",
       "      <td>1</td>\n",
       "      <td>140</td>\n",
       "      <td>289</td>\n",
       "      <td>0</td>\n",
       "      <td>1</td>\n",
       "      <td>172</td>\n",
       "      <td>0</td>\n",
       "      <td>0.0</td>\n",
       "      <td>0</td>\n",
       "    </tr>\n",
       "    <tr>\n",
       "      <th>1</th>\n",
       "      <td>49</td>\n",
       "      <td>0</td>\n",
       "      <td>2</td>\n",
       "      <td>160</td>\n",
       "      <td>180</td>\n",
       "      <td>0</td>\n",
       "      <td>1</td>\n",
       "      <td>156</td>\n",
       "      <td>0</td>\n",
       "      <td>1.0</td>\n",
       "      <td>1</td>\n",
       "    </tr>\n",
       "    <tr>\n",
       "      <th>2</th>\n",
       "      <td>37</td>\n",
       "      <td>1</td>\n",
       "      <td>1</td>\n",
       "      <td>130</td>\n",
       "      <td>283</td>\n",
       "      <td>0</td>\n",
       "      <td>2</td>\n",
       "      <td>98</td>\n",
       "      <td>0</td>\n",
       "      <td>0.0</td>\n",
       "      <td>0</td>\n",
       "    </tr>\n",
       "    <tr>\n",
       "      <th>3</th>\n",
       "      <td>48</td>\n",
       "      <td>0</td>\n",
       "      <td>3</td>\n",
       "      <td>138</td>\n",
       "      <td>214</td>\n",
       "      <td>0</td>\n",
       "      <td>1</td>\n",
       "      <td>108</td>\n",
       "      <td>1</td>\n",
       "      <td>1.5</td>\n",
       "      <td>1</td>\n",
       "    </tr>\n",
       "    <tr>\n",
       "      <th>4</th>\n",
       "      <td>54</td>\n",
       "      <td>1</td>\n",
       "      <td>2</td>\n",
       "      <td>150</td>\n",
       "      <td>195</td>\n",
       "      <td>0</td>\n",
       "      <td>1</td>\n",
       "      <td>122</td>\n",
       "      <td>0</td>\n",
       "      <td>0.0</td>\n",
       "      <td>0</td>\n",
       "    </tr>\n",
       "  </tbody>\n",
       "</table>\n",
       "</div>"
      ],
      "text/plain": [
       "   Age  Sex  ChestPainType  RestingBP  Cholesterol  FastingBS  RestingECG  \\\n",
       "0   40    1              1        140          289          0           1   \n",
       "1   49    0              2        160          180          0           1   \n",
       "2   37    1              1        130          283          0           2   \n",
       "3   48    0              3        138          214          0           1   \n",
       "4   54    1              2        150          195          0           1   \n",
       "\n",
       "   MaxHR  ExerciseAngina  Oldpeak  ST_Slope  \n",
       "0    172               0      0.0         0  \n",
       "1    156               0      1.0         1  \n",
       "2     98               0      0.0         0  \n",
       "3    108               1      1.5         1  \n",
       "4    122               0      0.0         0  "
      ]
     },
     "execution_count": 34,
     "metadata": {},
     "output_type": "execute_result"
    }
   ],
   "source": [
    "X = pd.get_dummies(X)\n",
    "X.head()"
   ]
  },
  {
   "cell_type": "code",
   "execution_count": 35,
   "id": "deebf07c",
   "metadata": {},
   "outputs": [],
   "source": [
    "X_train, X_test, y_train, y_test = train_test_split(X, y, test_size=0.22, stratify = y, random_state = 0)"
   ]
  },
  {
   "cell_type": "code",
   "execution_count": 36,
   "id": "7deef4f0",
   "metadata": {},
   "outputs": [],
   "source": [
    "scaler = MinMaxScaler()\n",
    "X_train_scaled = scaler.fit_transform(X_train)\n",
    "X_test_scaled = scaler.transform(X_test)"
   ]
  },
  {
   "cell_type": "markdown",
   "id": "5a6f2564",
   "metadata": {},
   "source": [
    "# Gaussian Formula"
   ]
  },
  {
   "cell_type": "code",
   "execution_count": 37,
   "id": "f8b60275",
   "metadata": {},
   "outputs": [
    {
     "name": "stdout",
     "output_type": "stream",
     "text": [
      "Predicted labels : [1 0 0 1 1 0 1 0 1 1 1 0 1 1 1 1 0 1 0 1 0 0 1 0 0 1 0 1 0 1 0 1 1 0 0]\n",
      "Ground truth    :  [0 1 0 1 1 0 0 1 1 1 1 0 1 1 1 1 0 1 0 1 0 1 1 0 0 0 0 1 1 1 1 1 1 0 0]\n",
      "Confusion Matrix: \n",
      " [[75 15]\n",
      " [23 89]]\n",
      "Classification_Report: \n",
      "               precision    recall  f1-score   support\n",
      "\n",
      "           0       0.77      0.83      0.80        90\n",
      "           1       0.86      0.79      0.82       112\n",
      "\n",
      "    accuracy                           0.81       202\n",
      "   macro avg       0.81      0.81      0.81       202\n",
      "weighted avg       0.82      0.81      0.81       202\n",
      "\n"
     ]
    }
   ],
   "source": [
    "nbc=GaussianNB().fit(X_train, y_train) \n",
    "y_pred = nbc.predict(X_test)\n",
    "\n",
    "nbc_train = round(nbc.score(X_train, y_train) * 100, 2)\n",
    "nbc_accuracy = round(accuracy_score(y_pred, y_test) * 100, 2)\n",
    "nbc_f1 = round(f1_score(y_pred, y_test) * 100, 2)\n",
    "\n",
    "print(\"Predicted labels :\",y_pred[:35])\n",
    "y=np.array(y_test)\n",
    "print(\"Ground truth    : \",y[:35])\n",
    "\n",
    "# print(\"Training Accuracy    :\",log_train,\"%\")\n",
    "# print(\"Model Accuracy Score :\",log_accuracy,\"%\")\n",
    "print(\"Confusion Matrix: \\n\",confusion_matrix(y_test,y_pred))\n",
    "print(\"Classification_Report: \\n\",classification_report(y_test,y_pred))"
   ]
  },
  {
   "cell_type": "markdown",
   "id": "a1e6afe5",
   "metadata": {},
   "source": [
    "# NBC (Mathematic)"
   ]
  },
  {
   "cell_type": "code",
   "execution_count": 38,
   "id": "4fd83e78",
   "metadata": {},
   "outputs": [
    {
     "data": {
      "text/html": [
       "<div>\n",
       "<style scoped>\n",
       "    .dataframe tbody tr th:only-of-type {\n",
       "        vertical-align: middle;\n",
       "    }\n",
       "\n",
       "    .dataframe tbody tr th {\n",
       "        vertical-align: top;\n",
       "    }\n",
       "\n",
       "    .dataframe thead th {\n",
       "        text-align: right;\n",
       "    }\n",
       "</style>\n",
       "<table border=\"1\" class=\"dataframe\">\n",
       "  <thead>\n",
       "    <tr style=\"text-align: right;\">\n",
       "      <th></th>\n",
       "      <th>Age</th>\n",
       "      <th>Sex</th>\n",
       "      <th>ChestPainType</th>\n",
       "      <th>RestingBP</th>\n",
       "      <th>Cholesterol</th>\n",
       "      <th>FastingBS</th>\n",
       "      <th>RestingECG</th>\n",
       "      <th>MaxHR</th>\n",
       "      <th>ExerciseAngina</th>\n",
       "      <th>Oldpeak</th>\n",
       "      <th>ST_Slope</th>\n",
       "      <th>HeartDisease</th>\n",
       "    </tr>\n",
       "  </thead>\n",
       "  <tbody>\n",
       "    <tr>\n",
       "      <th>0</th>\n",
       "      <td>40</td>\n",
       "      <td>1</td>\n",
       "      <td>1</td>\n",
       "      <td>140</td>\n",
       "      <td>289</td>\n",
       "      <td>0</td>\n",
       "      <td>1</td>\n",
       "      <td>172</td>\n",
       "      <td>0</td>\n",
       "      <td>0.0</td>\n",
       "      <td>2</td>\n",
       "      <td>0</td>\n",
       "    </tr>\n",
       "    <tr>\n",
       "      <th>1</th>\n",
       "      <td>49</td>\n",
       "      <td>0</td>\n",
       "      <td>2</td>\n",
       "      <td>160</td>\n",
       "      <td>180</td>\n",
       "      <td>0</td>\n",
       "      <td>1</td>\n",
       "      <td>156</td>\n",
       "      <td>0</td>\n",
       "      <td>1.0</td>\n",
       "      <td>1</td>\n",
       "      <td>1</td>\n",
       "    </tr>\n",
       "    <tr>\n",
       "      <th>2</th>\n",
       "      <td>37</td>\n",
       "      <td>1</td>\n",
       "      <td>1</td>\n",
       "      <td>130</td>\n",
       "      <td>283</td>\n",
       "      <td>0</td>\n",
       "      <td>2</td>\n",
       "      <td>98</td>\n",
       "      <td>0</td>\n",
       "      <td>0.0</td>\n",
       "      <td>2</td>\n",
       "      <td>0</td>\n",
       "    </tr>\n",
       "    <tr>\n",
       "      <th>3</th>\n",
       "      <td>48</td>\n",
       "      <td>0</td>\n",
       "      <td>0</td>\n",
       "      <td>138</td>\n",
       "      <td>214</td>\n",
       "      <td>0</td>\n",
       "      <td>1</td>\n",
       "      <td>108</td>\n",
       "      <td>1</td>\n",
       "      <td>1.5</td>\n",
       "      <td>1</td>\n",
       "      <td>1</td>\n",
       "    </tr>\n",
       "    <tr>\n",
       "      <th>4</th>\n",
       "      <td>54</td>\n",
       "      <td>1</td>\n",
       "      <td>2</td>\n",
       "      <td>150</td>\n",
       "      <td>195</td>\n",
       "      <td>0</td>\n",
       "      <td>1</td>\n",
       "      <td>122</td>\n",
       "      <td>0</td>\n",
       "      <td>0.0</td>\n",
       "      <td>2</td>\n",
       "      <td>0</td>\n",
       "    </tr>\n",
       "    <tr>\n",
       "      <th>5</th>\n",
       "      <td>39</td>\n",
       "      <td>1</td>\n",
       "      <td>2</td>\n",
       "      <td>120</td>\n",
       "      <td>339</td>\n",
       "      <td>0</td>\n",
       "      <td>1</td>\n",
       "      <td>170</td>\n",
       "      <td>0</td>\n",
       "      <td>0.0</td>\n",
       "      <td>2</td>\n",
       "      <td>0</td>\n",
       "    </tr>\n",
       "    <tr>\n",
       "      <th>6</th>\n",
       "      <td>45</td>\n",
       "      <td>0</td>\n",
       "      <td>1</td>\n",
       "      <td>130</td>\n",
       "      <td>237</td>\n",
       "      <td>0</td>\n",
       "      <td>1</td>\n",
       "      <td>170</td>\n",
       "      <td>0</td>\n",
       "      <td>0.0</td>\n",
       "      <td>2</td>\n",
       "      <td>0</td>\n",
       "    </tr>\n",
       "    <tr>\n",
       "      <th>7</th>\n",
       "      <td>54</td>\n",
       "      <td>1</td>\n",
       "      <td>1</td>\n",
       "      <td>110</td>\n",
       "      <td>208</td>\n",
       "      <td>0</td>\n",
       "      <td>1</td>\n",
       "      <td>142</td>\n",
       "      <td>0</td>\n",
       "      <td>0.0</td>\n",
       "      <td>2</td>\n",
       "      <td>0</td>\n",
       "    </tr>\n",
       "    <tr>\n",
       "      <th>8</th>\n",
       "      <td>37</td>\n",
       "      <td>1</td>\n",
       "      <td>0</td>\n",
       "      <td>140</td>\n",
       "      <td>207</td>\n",
       "      <td>0</td>\n",
       "      <td>1</td>\n",
       "      <td>130</td>\n",
       "      <td>1</td>\n",
       "      <td>1.5</td>\n",
       "      <td>1</td>\n",
       "      <td>1</td>\n",
       "    </tr>\n",
       "    <tr>\n",
       "      <th>9</th>\n",
       "      <td>48</td>\n",
       "      <td>0</td>\n",
       "      <td>1</td>\n",
       "      <td>120</td>\n",
       "      <td>284</td>\n",
       "      <td>0</td>\n",
       "      <td>1</td>\n",
       "      <td>120</td>\n",
       "      <td>0</td>\n",
       "      <td>0.0</td>\n",
       "      <td>2</td>\n",
       "      <td>0</td>\n",
       "    </tr>\n",
       "  </tbody>\n",
       "</table>\n",
       "</div>"
      ],
      "text/plain": [
       "   Age  Sex  ChestPainType  RestingBP  Cholesterol  FastingBS  RestingECG  \\\n",
       "0   40    1              1        140          289          0           1   \n",
       "1   49    0              2        160          180          0           1   \n",
       "2   37    1              1        130          283          0           2   \n",
       "3   48    0              0        138          214          0           1   \n",
       "4   54    1              2        150          195          0           1   \n",
       "5   39    1              2        120          339          0           1   \n",
       "6   45    0              1        130          237          0           1   \n",
       "7   54    1              1        110          208          0           1   \n",
       "8   37    1              0        140          207          0           1   \n",
       "9   48    0              1        120          284          0           1   \n",
       "\n",
       "   MaxHR  ExerciseAngina  Oldpeak  ST_Slope  HeartDisease  \n",
       "0    172               0      0.0         2             0  \n",
       "1    156               0      1.0         1             1  \n",
       "2     98               0      0.0         2             0  \n",
       "3    108               1      1.5         1             1  \n",
       "4    122               0      0.0         2             0  \n",
       "5    170               0      0.0         2             0  \n",
       "6    170               0      0.0         2             0  \n",
       "7    142               0      0.0         2             0  \n",
       "8    130               1      1.5         1             1  \n",
       "9    120               0      0.0         2             0  "
      ]
     },
     "execution_count": 38,
     "metadata": {},
     "output_type": "execute_result"
    }
   ],
   "source": [
    "dt=pd.read_csv('Nhom07_heart_failure.csv')\n",
    "\n",
    "dt.Sex=dt.Sex.map({'F':0,'M':1})\n",
    "dt.ChestPainType=dt.ChestPainType.map({'ASY':0,'ATA':1,'NAP':2,'TA':3})\n",
    "dt.RestingECG=dt.RestingECG.map({'LVH':0,'Normal':1,'ST':2})\n",
    "dt.ExerciseAngina=dt.ExerciseAngina.map({'N':0,'Y':1})\n",
    "dt.ST_Slope=dt.ST_Slope.map({'Down':0,'Flat':1,'Up':2})\n",
    "\n",
    "# dt.to_csv(\"heart - Copy.csv\")\n",
    "dt.head(10)"
   ]
  },
  {
   "cell_type": "code",
   "execution_count": 39,
   "id": "756b3593",
   "metadata": {},
   "outputs": [],
   "source": [
    "# the categorical class names are changed to numberic data\n",
    "# eg: yes and no encoded to 1 and 0\n",
    "def encode_class(mydata):\n",
    "    classes = []\n",
    "    for i in range(len(mydata)):\n",
    "        if mydata[i][-1] not in classes:\n",
    "            classes.append(mydata[i][-1])\n",
    "    for i in range(len(classes)):\n",
    "        for j in range(len(mydata)):\n",
    "            if mydata[j][-1] == classes[i]:\n",
    "                mydata[j][-1] = i\n",
    "    return mydata"
   ]
  },
  {
   "cell_type": "code",
   "execution_count": 40,
   "id": "e133f88a",
   "metadata": {},
   "outputs": [],
   "source": [
    "# Splitting the data\n",
    "def splitting(mydata, ratio):\n",
    "    train_num = int(len(mydata) * ratio)\n",
    "    train = []\n",
    "    # initially testset will have all the dataset\n",
    "    test = list(mydata)\n",
    "    while len(train) < train_num:\n",
    "        # index generated randomly from range 0\n",
    "        # to length of testset\n",
    "        index = random.randrange(len(test))\n",
    "        # from testset, pop data rows and put it in train\n",
    "        train.append(test.pop(index))\n",
    "    return train, test"
   ]
  },
  {
   "cell_type": "code",
   "execution_count": 41,
   "id": "695bb1f3",
   "metadata": {},
   "outputs": [],
   "source": [
    "# Group the data rows under each class yes or\n",
    "# no in dictionary eg: dict[yes] and dict[no]\n",
    "def groupUnderClass(mydata):\n",
    "    dict = {}\n",
    "    for i in range(len(mydata)):\n",
    "        if (mydata[i][-1] not in dict):\n",
    "            dict[mydata[i][-1]] = []\n",
    "        dict[mydata[i][-1]].append(mydata[i])\n",
    "    return dict"
   ]
  },
  {
   "cell_type": "code",
   "execution_count": 42,
   "id": "096db4ba",
   "metadata": {},
   "outputs": [],
   "source": [
    "# Calculating Mean\n",
    "def mean(numbers):\n",
    "    return sum(numbers) / float(len(numbers))\n",
    "\n",
    "# Calculating Standard Deviation\n",
    "def std_dev(numbers):\n",
    "    avg = mean(numbers)\n",
    "    variance = sum([pow(x - avg, 2) for x in numbers]) / float(len(numbers) - 1)\n",
    "    return math.sqrt(variance)\n",
    "\n",
    "def MeanAndStdDev(mydata):\n",
    "    info = [(mean(attribute), std_dev(attribute)) for attribute in zip(*mydata)]\n",
    "    # eg: list = [ [a, b, c], [m, n, o], [x, y, z]]\n",
    "    # here mean of 1st attribute =(a + m+x), mean of 2nd attribute = (b + n+y)/3\n",
    "    # delete summaries of last class\n",
    "    del info[-1]\n",
    "    return info"
   ]
  },
  {
   "cell_type": "code",
   "execution_count": 43,
   "id": "b08092eb",
   "metadata": {},
   "outputs": [],
   "source": [
    "# find Mean and Standard Deviation under each class\n",
    "def MeanAndStdDevForClass(mydata):\n",
    "    info = {}\n",
    "    dict = groupUnderClass(mydata)\n",
    "    for classValue, instances in dict.items():\n",
    "        info[classValue] = MeanAndStdDev(instances)\n",
    "    return info\n"
   ]
  },
  {
   "cell_type": "code",
   "execution_count": 44,
   "id": "4804ca07",
   "metadata": {},
   "outputs": [],
   "source": [
    "# Calculate Gaussian Probability Density Function\n",
    "def calculateGaussianProbability(x, mean, stdev):\n",
    "    expo = math.exp(-(math.pow(x - mean, 2) / (2 * math.pow(stdev, 2))))\n",
    "    return (1 / (math.sqrt(2 * math.pi) * stdev)) * expo\n",
    "\n",
    "\n",
    "# Calculate Class Probabilities\n",
    "def calculateClassProbabilities(info, test):\n",
    "    probabilities = {}\n",
    "    for classValue, classSummaries in info.items():\n",
    "        probabilities[classValue] = 1\n",
    "        for i in range(len(classSummaries)):\n",
    "            mean, std_dev = classSummaries[i]\n",
    "            x = test[i]\n",
    "            probabilities[classValue] *= calculateGaussianProbability(x, mean, std_dev)\n",
    "    return probabilities\n"
   ]
  },
  {
   "cell_type": "code",
   "execution_count": 45,
   "id": "94de84a9",
   "metadata": {},
   "outputs": [],
   "source": [
    "# Make prediction - highest probability is the prediction\n",
    "def predict(info, test):\n",
    "    probabilities = calculateClassProbabilities(info, test)\n",
    "    bestLabel, bestProb = None, -1\n",
    "    for classValue, probability in probabilities.items():\n",
    "        if bestLabel is None or probability > bestProb:\n",
    "            bestProb = probability\n",
    "            bestLabel = classValue\n",
    "    return bestLabel\n",
    "\n",
    "\n",
    "# returns predictions for a set of examples\n",
    "def getPredictions(info, test):\n",
    "    predictions = []\n",
    "    for i in range(len(test)):\n",
    "        result = predict(info, test[i])\n",
    "        predictions.append(result)\n",
    "    return predictions"
   ]
  },
  {
   "cell_type": "code",
   "execution_count": 46,
   "id": "30490a4e",
   "metadata": {},
   "outputs": [],
   "source": [
    "# Accuracy score\n",
    "def accuracy_rate(test, predictions):\n",
    "    correct = 0\n",
    "    for i in range(len(test)):\n",
    "        if test[i][-1] == predictions[i]:\n",
    "            correct += 1\n",
    "    return (correct / float(len(test))) * 100.0\n"
   ]
  },
  {
   "cell_type": "code",
   "execution_count": 47,
   "id": "f889dc58",
   "metadata": {},
   "outputs": [
    {
     "name": "stdout",
     "output_type": "stream",
     "text": [
      "Total number of examples are:  918\n",
      "Out of these, training examples are:  716\n",
      "Test examples are:  202\n",
      "Accuracy of your model is:  86.13861386138613\n"
     ]
    }
   ],
   "source": [
    "# add the data path in your system\n",
    "filename = r'heart-Copy.csv'\n",
    "\n",
    "\n",
    "# load the file and store it in mydata list\n",
    "mydata = list(csv.reader(open(filename, \"rt\")))\n",
    "mydata = mydata[1:]\n",
    "mydata = encode_class(mydata)\n",
    "for i in range(len(mydata)):\n",
    "    mydata[i] = [float(x) for x in mydata[i]]\n",
    "\n",
    "ratio = 0.78\n",
    "train_data, test_data = splitting(mydata, ratio)\n",
    "print('Total number of examples are: ', len(mydata))\n",
    "print('Out of these, training examples are: ', len(train_data))\n",
    "print(\"Test examples are: \", len(test_data))\n",
    "\n",
    "# prepare model\n",
    "info = MeanAndStdDevForClass(train_data)\n",
    "\n",
    "# test model\n",
    "predictions = getPredictions(info, test_data)\n",
    "accuracy = accuracy_rate(test_data, predictions)\n",
    "print(\"Accuracy of your model is: \", accuracy)\n"
   ]
  },
  {
   "cell_type": "code",
   "execution_count": null,
   "id": "6bbf9879",
   "metadata": {},
   "outputs": [],
   "source": []
  }
 ],
 "metadata": {
  "kernelspec": {
   "display_name": "Python 3",
   "language": "python",
   "name": "python3"
  },
  "language_info": {
   "codemirror_mode": {
    "name": "ipython",
    "version": 3
   },
   "file_extension": ".py",
   "mimetype": "text/x-python",
   "name": "python",
   "nbconvert_exporter": "python",
   "pygments_lexer": "ipython3",
   "version": "3.8.8"
  },
  "vscode": {
   "interpreter": {
    "hash": "88279d2366fe020547cde40dd65aa0e3aa662a6ec1f3ca12d88834876c85e1a6"
   }
  }
 },
 "nbformat": 4,
 "nbformat_minor": 5
}
